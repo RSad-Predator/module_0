{
 "cells": [
  {
   "cell_type": "code",
   "execution_count": null,
   "metadata": {},
   "outputs": [],
   "source": [
    "# изменил условие на изначальное введение пользователем диапазона\n",
    "n = int(input('Введите из скольки чисел искать случайное число '))\n",
    "\n",
    "import numpy as np\n",
    "count = 0                                                # создан счетчик попыток\n",
    "number = np.random.randint(1,n+1)                        # ПК загадал число\n",
    "print (f\"Загадано число от 1 до {n}\")\n",
    "    \n",
    "potencial_numbers = [i for i in range(1,n+1)]            # создан исходный список чисел\n",
    "print ('Список исходных чисел: ', potencial_numbers)\n",
    "\n",
    "while True:                                              # бесконечный цикл\n",
    "    if len(potencial_numbers)<2:                         # проверка не найдено ли искомое число (один элемент в списке)\n",
    "        break\n",
    "    \n",
    "    count += 1                         # цикл поиска искомого диапазона, относительно значения среднего элемента списка\n",
    "    if number >= potencial_numbers[int(len(potencial_numbers)/2)]:\n",
    "        potencial_numbers = potencial_numbers[int(len(potencial_numbers)/2):]\n",
    "    else:\n",
    "        potencial_numbers = potencial_numbers[:int(len(potencial_numbers)/2)]\n",
    "    print ('Действие алгоритма №', count, 'Список оставшихся возможных чисел: ', potencial_numbers)\n",
    "\n",
    "print ('Загаданное ПК число - ', number)"
   ]
  }
 ],
 "metadata": {
  "kernelspec": {
   "display_name": "Python 3",
   "language": "python",
   "name": "python3"
  },
  "language_info": {
   "codemirror_mode": {
    "name": "ipython",
    "version": 3
   },
   "file_extension": ".py",
   "mimetype": "text/x-python",
   "name": "python",
   "nbconvert_exporter": "python",
   "pygments_lexer": "ipython3",
   "version": "3.8.5"
  }
 },
 "nbformat": 4,
 "nbformat_minor": 4
}
